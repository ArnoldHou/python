{
 "cells": [
  {
   "cell_type": "code",
   "execution_count": 2,
   "metadata": {
    "collapsed": false
   },
   "outputs": [
    {
     "name": "stdout",
     "output_type": "stream",
     "text": [
      "abcdefghijklmnopqrstuvwxyz\n"
     ]
    }
   ],
   "source": [
    "alphabet='abcdefg'+\\\n",
    "'hijklmnop'+\\\n",
    "'qrstuv'+\\\n",
    "'wxyz'\n",
    "print(alphabet)"
   ]
  },
  {
   "cell_type": "code",
   "execution_count": 3,
   "metadata": {
    "collapsed": false
   },
   "outputs": [
    {
     "name": "stdout",
     "output_type": "stream",
     "text": [
      "計算機概論老師\n"
     ]
    }
   ],
   "source": [
    "吳柏翰=True\n",
    "if 吳柏翰:\n",
    "    print(\"計算機概論老師\")\n",
    "else:\n",
    "    print(\"工程師\")"
   ]
  },
  {
   "cell_type": "code",
   "execution_count": 4,
   "metadata": {
    "collapsed": false
   },
   "outputs": [
    {
     "name": "stdout",
     "output_type": "stream",
     "text": [
      "計概老師\n"
     ]
    }
   ],
   "source": [
    "吳柏翰=True\n",
    "Jerry=True\n",
    "if 吳柏翰:\n",
    "    if Jerry:\n",
    "        print(\"計概老師\")\n",
    "    else:\n",
    "        print(\"台科大老師\")\n",
    "else:\n",
    "    if Jerry:\n",
    "        print(\"公司老闆\")\n",
    "    else:\n",
    "        print(\"普通上班族\")"
   ]
  },
  {
   "cell_type": "code",
   "execution_count": 6,
   "metadata": {
    "collapsed": false
   },
   "outputs": [
    {
     "name": "stdout",
     "output_type": "stream",
     "text": [
      "ouch\n"
     ]
    }
   ],
   "source": [
    "color=\"purple\"\n",
    "if color ==\"yellow\":\n",
    "    print(\"WOW\")\n",
    "elif color==\"green\" :\n",
    "    print(\"YEAH\")\n",
    "elif color==\"purple\":\n",
    "    print(\"ouch\")\n",
    "else:\n",
    "    print(\"nothing\")"
   ]
  },
  {
   "cell_type": "code",
   "execution_count": 7,
   "metadata": {
    "collapsed": false
   },
   "outputs": [
    {
     "data": {
      "text/plain": [
       "False"
      ]
     },
     "execution_count": 7,
     "metadata": {},
     "output_type": "execute_result"
    }
   ],
   "source": [
    "x=7\n",
    "x==5"
   ]
  },
  {
   "cell_type": "code",
   "execution_count": 8,
   "metadata": {
    "collapsed": false
   },
   "outputs": [
    {
     "data": {
      "text/plain": [
       "True"
      ]
     },
     "execution_count": 8,
     "metadata": {},
     "output_type": "execute_result"
    }
   ],
   "source": [
    "5<x"
   ]
  },
  {
   "cell_type": "code",
   "execution_count": 9,
   "metadata": {
    "collapsed": false
   },
   "outputs": [
    {
     "data": {
      "text/plain": [
       "True"
      ]
     },
     "execution_count": 9,
     "metadata": {},
     "output_type": "execute_result"
    }
   ],
   "source": [
    "x<10"
   ]
  },
  {
   "cell_type": "code",
   "execution_count": 10,
   "metadata": {
    "collapsed": false
   },
   "outputs": [
    {
     "data": {
      "text/plain": [
       "True"
      ]
     },
     "execution_count": 10,
     "metadata": {},
     "output_type": "execute_result"
    }
   ],
   "source": [
    "5<x and x<10"
   ]
  },
  {
   "cell_type": "code",
   "execution_count": 11,
   "metadata": {
    "collapsed": false
   },
   "outputs": [
    {
     "data": {
      "text/plain": [
       "True"
      ]
     },
     "execution_count": 11,
     "metadata": {},
     "output_type": "execute_result"
    }
   ],
   "source": [
    "(5<x) and(x<10)"
   ]
  },
  {
   "cell_type": "code",
   "execution_count": 12,
   "metadata": {
    "collapsed": false
   },
   "outputs": [
    {
     "data": {
      "text/plain": [
       "True"
      ]
     },
     "execution_count": 12,
     "metadata": {},
     "output_type": "execute_result"
    }
   ],
   "source": [
    "5<x or x <10"
   ]
  },
  {
   "cell_type": "code",
   "execution_count": 13,
   "metadata": {
    "collapsed": false
   },
   "outputs": [
    {
     "data": {
      "text/plain": [
       "False"
      ]
     },
     "execution_count": 13,
     "metadata": {},
     "output_type": "execute_result"
    }
   ],
   "source": [
    "5<x and x>10"
   ]
  },
  {
   "cell_type": "code",
   "execution_count": 14,
   "metadata": {
    "collapsed": false
   },
   "outputs": [
    {
     "data": {
      "text/plain": [
       "True"
      ]
     },
     "execution_count": 14,
     "metadata": {},
     "output_type": "execute_result"
    }
   ],
   "source": [
    "5<x and not x>10"
   ]
  },
  {
   "cell_type": "code",
   "execution_count": 15,
   "metadata": {
    "collapsed": false
   },
   "outputs": [
    {
     "data": {
      "text/plain": [
       "True"
      ]
     },
     "execution_count": 15,
     "metadata": {},
     "output_type": "execute_result"
    }
   ],
   "source": [
    "5<x<10<50<1000"
   ]
  },
  {
   "cell_type": "code",
   "execution_count": 16,
   "metadata": {
    "collapsed": false
   },
   "outputs": [
    {
     "name": "stdout",
     "output_type": "stream",
     "text": [
      "False\n"
     ]
    }
   ],
   "source": [
    "some_list=[]\n",
    "if some_list:\n",
    "    print(\"True\")\n",
    "else:\n",
    "    print(\"False\")"
   ]
  },
  {
   "cell_type": "code",
   "execution_count": 18,
   "metadata": {
    "collapsed": false
   },
   "outputs": [
    {
     "name": "stdout",
     "output_type": "stream",
     "text": [
      "1\n",
      "2\n",
      "3\n",
      "4\n",
      "5\n",
      "6\n",
      "7\n",
      "8\n",
      "9\n",
      "10\n"
     ]
    }
   ],
   "source": [
    "count=1 \n",
    "while count<=10:\n",
    "    print(count)\n",
    "    count+=1"
   ]
  },
  {
   "cell_type": "code",
   "execution_count": 2,
   "metadata": {
    "collapsed": false
   },
   "outputs": [
    {
     "name": "stdout",
     "output_type": "stream",
     "text": [
      "誰是世界上最有錢的人[案q來取消]:比爾蓋茲\n",
      "你猜對了\n",
      "誰是世界上最有錢的人[案q來取消]:q\n"
     ]
    }
   ],
   "source": [
    "while True:\n",
    "    a=input(\"誰是世界上最有錢的人[案q來取消]:\")\n",
    "    if a==\"比爾蓋茲\":\n",
    "        print(\"你猜對了\")\n",
    "    elif a==\"q\":\n",
    "        break\n",
    "    else:\n",
    "        print(\"加油!再試試看\")\n",
    "    "
   ]
  },
  {
   "cell_type": "code",
   "execution_count": null,
   "metadata": {
    "collapsed": false
   },
   "outputs": [
    {
     "name": "stdout",
     "output_type": "stream",
     "text": [
      "交通工具[案q取消]:車子\n",
      "car\n"
     ]
    }
   ],
   "source": [
    "a = {'車子':'car','飛機':'airplan','公車':'bus','坦克':'tank'}\n",
    "while True:\n",
    "    b=input(\"交通工具[案q取消]:\")\n",
    "    if b ==\"q\":\n",
    "        break\n",
    "    elif b in a:\n",
    "        print(a[b])\n",
    "    else:\n",
    "        print(\"加油!再試試看\")"
   ]
  },
  {
   "cell_type": "code",
   "execution_count": 2,
   "metadata": {
    "collapsed": false
   },
   "outputs": [
    {
     "name": "stdout",
     "output_type": "stream",
     "text": [
      "車子\n",
      "飛機\n",
      "公車\n",
      "坦克\n"
     ]
    }
   ],
   "source": [
    "a = ['車子','飛機','公車','坦克']\n",
    "for b in a:\n",
    "    print(b)"
   ]
  },
  {
   "cell_type": "code",
   "execution_count": 3,
   "metadata": {
    "collapsed": false
   },
   "outputs": [
    {
     "name": "stdout",
     "output_type": "stream",
     "text": [
      "c\n",
      "a\n",
      "t\n"
     ]
    }
   ],
   "source": [
    "word='cat'\n",
    "for cat in word:\n",
    "    print(cat)"
   ]
  },
  {
   "cell_type": "code",
   "execution_count": 5,
   "metadata": {
    "collapsed": false
   },
   "outputs": [
    {
     "name": "stdout",
     "output_type": "stream",
     "text": [
      "Giant\n",
      "BMW\n",
      "HTC\n"
     ]
    }
   ],
   "source": [
    "things={'car':'BMW','cellphone':'HTC','bicycle':'Giant'}\n",
    "for thing in things.values():\n",
    "    print(thing)"
   ]
  },
  {
   "cell_type": "code",
   "execution_count": 6,
   "metadata": {
    "collapsed": false
   },
   "outputs": [
    {
     "name": "stdout",
     "output_type": "stream",
     "text": [
      "bicycle\n",
      "car\n",
      "cellphone\n"
     ]
    }
   ],
   "source": [
    "for something in things.keys():\n",
    "    print(something)"
   ]
  },
  {
   "cell_type": "code",
   "execution_count": 7,
   "metadata": {
    "collapsed": false
   },
   "outputs": [
    {
     "name": "stdout",
     "output_type": "stream",
     "text": [
      "('bicycle', 'Giant')\n",
      "('car', 'BMW')\n",
      "('cellphone', 'HTC')\n"
     ]
    }
   ],
   "source": [
    "for anything in things.items():\n",
    "    print(anything)"
   ]
  },
  {
   "cell_type": "code",
   "execution_count": 8,
   "metadata": {
    "collapsed": false
   },
   "outputs": [
    {
     "name": "stdout",
     "output_type": "stream",
     "text": [
      "bicycle = Giant\n",
      "car = BMW\n",
      "cellphone = HTC\n"
     ]
    }
   ],
   "source": [
    "for a,b in things.items():\n",
    "    print(a,'=',b)"
   ]
  },
  {
   "cell_type": "code",
   "execution_count": 26,
   "metadata": {
    "collapsed": false
   },
   "outputs": [
    {
     "name": "stdout",
     "output_type": "stream",
     "text": [
      "我是個窮小子只能搭捷運.....\n"
     ]
    }
   ],
   "source": [
    "a=[]\n",
    "for a in a:\n",
    "    print('我上班的交通工具:')\n",
    "    break\n",
    "else:\n",
    "    print('我是個窮小子只能搭捷運.....')"
   ]
  },
  {
   "cell_type": "code",
   "execution_count": 25,
   "metadata": {
    "collapsed": false
   },
   "outputs": [
    {
     "name": "stdout",
     "output_type": "stream",
     "text": [
      "我是個窮小子只能搭捷運.....\n"
     ]
    }
   ],
   "source": [
    "a=[]\n",
    "found_one=False\n",
    "for b in a:\n",
    "    found_one=True\n",
    "    print('我上班的交通工具:')\n",
    "    break\n",
    "else:\n",
    "    print('我是個窮小子只能搭捷運.....')"
   ]
  },
  {
   "cell_type": "code",
   "execution_count": 27,
   "metadata": {
    "collapsed": false
   },
   "outputs": [
    {
     "name": "stdout",
     "output_type": "stream",
     "text": [
      "我是個窮小子只能搭捷運.....\n"
     ]
    }
   ],
   "source": [
    "if not found_one:\n",
    "    print('我是個窮小子只能搭捷運.....')"
   ]
  }
 ],
 "metadata": {
  "kernelspec": {
   "display_name": "Python 3",
   "language": "python",
   "name": "python3"
  },
  "language_info": {
   "codemirror_mode": {
    "name": "ipython",
    "version": 3
   },
   "file_extension": ".py",
   "mimetype": "text/x-python",
   "name": "python",
   "nbconvert_exporter": "python",
   "pygments_lexer": "ipython3",
   "version": "3.4.3"
  }
 },
 "nbformat": 4,
 "nbformat_minor": 0
}
